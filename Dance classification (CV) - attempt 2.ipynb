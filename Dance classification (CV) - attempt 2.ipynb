{
 "cells": [
  {
   "cell_type": "code",
   "execution_count": 1,
   "metadata": {},
   "outputs": [],
   "source": [
    "import pandas as pd\n",
    "import numpy as np\n",
    "import matplotlib.pyplot as plt\n",
    "import seaborn as sn\n",
    "import cv2\n",
    "import os\n",
    "import warnings\n",
    "warnings.filterwarnings('ignore')\n",
    "import statsmodels.api as sm\n",
    "%matplotlib inline"
   ]
  },
  {
   "cell_type": "code",
   "execution_count": 2,
   "metadata": {},
   "outputs": [],
   "source": [
    "path_dir = '/Users/skylark/Desktop/dataset'"
   ]
  },
  {
   "cell_type": "code",
   "execution_count": 129,
   "metadata": {},
   "outputs": [],
   "source": [
    "train_img = pd.read_csv('/Users/skylark/Desktop/dataset/train.csv')"
   ]
  },
  {
   "cell_type": "code",
   "execution_count": 312,
   "metadata": {},
   "outputs": [],
   "source": [
    "test_img = pd.read_csv('/Users/skylark/Desktop/dataset/test.csv')"
   ]
  },
  {
   "cell_type": "code",
   "execution_count": 51,
   "metadata": {},
   "outputs": [],
   "source": [
    "from sklearn.preprocessing import LabelEncoder"
   ]
  },
  {
   "cell_type": "code",
   "execution_count": 131,
   "metadata": {},
   "outputs": [
    {
     "data": {
      "text/plain": [
       "array([4, 0, 6, 2, 6, 1, 7, 3, 7, 3, 3, 3, 1, 7, 2, 6, 7, 3, 4, 1, 4, 0,\n",
       "       3, 3, 5, 6, 1, 6, 6, 7, 2, 1, 2, 7, 0, 1, 0, 2, 6, 6, 6, 3, 4, 5,\n",
       "       5, 6, 1, 4, 1, 5, 6, 7, 7, 6, 3, 7, 5, 4, 7, 1, 6, 7, 4, 2, 7, 2,\n",
       "       4, 0, 1, 1, 7, 0, 2, 1, 5, 4, 1, 3, 6, 3, 0, 3, 0, 7, 1, 3, 5, 4,\n",
       "       5, 0, 6, 3, 6, 3, 0, 5, 0, 0, 7, 1, 2, 5, 7, 0, 6, 1, 7, 7, 3, 6,\n",
       "       1, 4, 2, 0, 5, 2, 3, 4, 5, 0, 5, 1, 2, 3, 0, 5, 0, 5, 2, 0, 5, 0,\n",
       "       4, 4, 7, 5, 7, 0, 6, 5, 6, 5, 2, 6, 7, 0, 5, 6, 7, 4, 7, 7, 1, 6,\n",
       "       2, 0, 5, 1, 3, 4, 7, 2, 5, 2, 1, 7, 5, 0, 0, 3, 6, 1, 6, 3, 5, 3,\n",
       "       6, 7, 0, 0, 2, 6, 5, 4, 6, 2, 5, 5, 3, 1, 5, 4, 6, 6, 3, 2, 0, 2,\n",
       "       5, 0, 2, 5, 6, 4, 3, 0, 7, 3, 2, 5, 2, 7, 5, 1, 3, 5, 3, 7, 5, 1,\n",
       "       5, 7, 6, 1, 1, 2, 5, 5, 7, 1, 0, 1, 4, 2, 7, 4, 3, 4, 1, 0, 1, 3,\n",
       "       2, 2, 6, 3, 0, 2, 3, 2, 6, 0, 7, 7, 1, 0, 6, 7, 0, 6, 7, 5, 2, 2,\n",
       "       3, 3, 6, 4, 6, 7, 1, 6, 4, 0, 3, 0, 7, 5, 4, 0, 2, 5, 0, 1, 2, 3,\n",
       "       0, 2, 5, 2, 3, 7, 7, 5, 2, 7, 7, 3, 4, 2, 4, 4, 2, 2, 5, 3, 6, 7,\n",
       "       0, 0, 1, 1, 3, 4, 2, 5, 2, 2, 3, 6, 6, 7, 4, 3, 6, 1, 2, 4, 2, 1,\n",
       "       0, 6, 0, 3, 1, 5, 4, 0, 5, 6, 2, 6, 4, 3, 6, 0, 4, 1, 5, 1, 3, 1,\n",
       "       5, 6, 0, 1, 1, 2, 6, 4, 5, 3, 4, 5])"
      ]
     },
     "execution_count": 131,
     "metadata": {},
     "output_type": "execute_result"
    }
   ],
   "source": [
    "le = LabelEncoder()\n",
    "le.fit_transform(train_img.target)"
   ]
  },
  {
   "cell_type": "code",
   "execution_count": 138,
   "metadata": {},
   "outputs": [],
   "source": [
    "def to_str(x):\n",
    "    return int(x.split('.')[0])"
   ]
  },
  {
   "cell_type": "code",
   "execution_count": 140,
   "metadata": {},
   "outputs": [],
   "source": [
    "train_img['img'] = train_img.Image.apply(lambda x: to_str(x))"
   ]
  },
  {
   "cell_type": "code",
   "execution_count": 151,
   "metadata": {},
   "outputs": [],
   "source": [
    "test_img['img'] = test_img.Image.apply(lambda x: to_str(x))"
   ]
  },
  {
   "cell_type": "code",
   "execution_count": 80,
   "metadata": {},
   "outputs": [
    {
     "data": {
      "text/plain": [
       "{1: 'kathak',\n",
       " 4: 'manipuri',\n",
       " 0: 'bharatanatyam',\n",
       " 2: 'kathakali',\n",
       " 5: 'mohiniyattam',\n",
       " 7: 'sattriya',\n",
       " 3: 'kuchipudi',\n",
       " 6: 'odissi'}"
      ]
     },
     "execution_count": 80,
     "metadata": {},
     "output_type": "execute_result"
    }
   ],
   "source": [
    "dance_dict"
   ]
  },
  {
   "cell_type": "code",
   "execution_count": 132,
   "metadata": {},
   "outputs": [],
   "source": [
    "train_img['label'] = le.fit_transform(train_img.target)"
   ]
  },
  {
   "cell_type": "code",
   "execution_count": 5,
   "metadata": {},
   "outputs": [],
   "source": [
    "train_dir = os.path.join(path_dir, 'train')\n",
    "test_dir = os.path.join(path_dir, 'test')"
   ]
  },
  {
   "cell_type": "code",
   "execution_count": 8,
   "metadata": {},
   "outputs": [],
   "source": [
    "from tensorflow.keras import models, layers"
   ]
  },
  {
   "cell_type": "code",
   "execution_count": 289,
   "metadata": {},
   "outputs": [],
   "source": [
    "model = models.Sequential()\n",
    "from keras import regularizers"
   ]
  },
  {
   "cell_type": "code",
   "execution_count": 290,
   "metadata": {},
   "outputs": [
    {
     "name": "stdout",
     "output_type": "stream",
     "text": [
      "Model: \"sequential_6\"\n",
      "_________________________________________________________________\n",
      "Layer (type)                 Output Shape              Param #   \n",
      "=================================================================\n",
      "conv2d_24 (Conv2D)           (None, 148, 148, 64)      640       \n",
      "_________________________________________________________________\n",
      "max_pooling2d_24 (MaxPooling (None, 74, 74, 64)        0         \n",
      "_________________________________________________________________\n",
      "conv2d_25 (Conv2D)           (None, 72, 72, 64)        36928     \n",
      "_________________________________________________________________\n",
      "max_pooling2d_25 (MaxPooling (None, 36, 36, 64)        0         \n",
      "_________________________________________________________________\n",
      "conv2d_26 (Conv2D)           (None, 34, 34, 128)       73856     \n",
      "_________________________________________________________________\n",
      "max_pooling2d_26 (MaxPooling (None, 17, 17, 128)       0         \n",
      "_________________________________________________________________\n",
      "conv2d_27 (Conv2D)           (None, 15, 15, 256)       295168    \n",
      "_________________________________________________________________\n",
      "max_pooling2d_27 (MaxPooling (None, 7, 7, 256)         0         \n",
      "_________________________________________________________________\n",
      "flatten_6 (Flatten)          (None, 12544)             0         \n",
      "_________________________________________________________________\n",
      "dropout_3 (Dropout)          (None, 12544)             0         \n",
      "_________________________________________________________________\n",
      "dense_13 (Dense)             (None, 512)               6423040   \n",
      "_________________________________________________________________\n",
      "dense_14 (Dense)             (None, 8)                 4104      \n",
      "=================================================================\n",
      "Total params: 6,833,736\n",
      "Trainable params: 6,833,736\n",
      "Non-trainable params: 0\n",
      "_________________________________________________________________\n"
     ]
    }
   ],
   "source": [
    "model.add(layers.Conv2D(64, (3, 3), activation = 'relu', input_shape = (150, 150, 1)))\n",
    "model.add(layers.MaxPooling2D(2, 2))\n",
    "\n",
    "model.add(layers.Conv2D(64, (3, 3), activation = 'relu'))\n",
    "model.add(layers.MaxPooling2D(2, 2))\n",
    "\n",
    "model.add(layers.Conv2D(128, (3, 3), activation = 'relu'))\n",
    "model.add(layers.MaxPooling2D(2, 2))\n",
    "\n",
    "model.add(layers.Conv2D(256, (3, 3), activation = 'relu'))\n",
    "model.add(layers.MaxPooling2D(2, 2))\n",
    "\n",
    "model.add(layers.Flatten())\n",
    "model.add(layers.Dropout(0.5))\n",
    "model.add(layers.Dense(512, activation = 'relu'))\n",
    "model.add(layers.Dense(8, activation = 'softmax'))\n",
    "\n",
    "model.summary()"
   ]
  },
  {
   "cell_type": "code",
   "execution_count": 240,
   "metadata": {},
   "outputs": [],
   "source": [
    "from sklearn.model_selection import train_test_split"
   ]
  },
  {
   "cell_type": "code",
   "execution_count": 284,
   "metadata": {},
   "outputs": [],
   "source": [
    "train_x, test_x, train_y, test_y = train_test_split(np.array(train), train_img.label, test_size = 0.3, random_state=89)"
   ]
  },
  {
   "cell_type": "code",
   "execution_count": 292,
   "metadata": {},
   "outputs": [],
   "source": [
    "model.compile(optimizer='rmsprop', loss='sparse_categorical_crossentropy', metrics=['accuracy'])"
   ]
  },
  {
   "cell_type": "code",
   "execution_count": 11,
   "metadata": {},
   "outputs": [],
   "source": [
    "from keras.preprocessing import image"
   ]
  },
  {
   "cell_type": "code",
   "execution_count": 286,
   "metadata": {},
   "outputs": [],
   "source": [
    "train_datagen = image.ImageDataGenerator(rescale=1./255, rotation_range=50, width_shift_range=0.2, height_shift_range=0.2, shear_range=0.2, zoom_range=0.2, horizontal_flip=True, fill_mode='nearest')\n",
    "test_datagen = image.ImageDataGenerator(rescale=1./255, rotation_range=50, width_shift_range=0.2, height_shift_range=0.2, shear_range=0.2, zoom_range=0.2, horizontal_flip=True, fill_mode='nearest')\n",
    "validation_datagen = image.ImageDataGenerator(rescale=1./255, rotation_range=50, width_shift_range=0.2, height_shift_range=0.2, shear_range=0.2, zoom_range=0.2, horizontal_flip=True, fill_mode='nearest')"
   ]
  },
  {
   "cell_type": "code",
   "execution_count": 287,
   "metadata": {},
   "outputs": [],
   "source": [
    "train_gen = train_datagen.flow(train_x[72:], train_y[72:], batch_size=32)\n",
    "test_gen = test_datagen.flow(test_x, test_y, batch_size=32)\n",
    "validation_gen = validation_datagen.flow(train_x[:72],train_y[:72], batch_size=32)"
   ]
  },
  {
   "cell_type": "code",
   "execution_count": 146,
   "metadata": {},
   "outputs": [],
   "source": [
    "train = []\n",
    "for i in range(len(train_img)):\n",
    "    train.append(image.img_to_array(image.load_img(os.path.join(train_dir, train_img.Image[i]), target_size=(150, 150), grayscale=True)))"
   ]
  },
  {
   "cell_type": "code",
   "execution_count": 176,
   "metadata": {},
   "outputs": [],
   "source": [
    "test = []\n",
    "for i in range(len(test_img)):\n",
    "    test.append(image.img_to_array(image.load_img(os.path.join(test_dir, test_img.Image[i]), target_size=(150, 150), grayscale=True)))"
   ]
  },
  {
   "cell_type": "code",
   "execution_count": 293,
   "metadata": {},
   "outputs": [
    {
     "name": "stdout",
     "output_type": "stream",
     "text": [
      "Epoch 1/20\n",
      "100/100 [==============================] - 261s 3s/step - loss: 2.0597 - accuracy: 0.1601 - val_loss: 1.9941 - val_accuracy: 0.2292\n",
      "Epoch 2/20\n",
      "100/100 [==============================] - 211s 2s/step - loss: 1.8921 - accuracy: 0.2747 - val_loss: 1.9625 - val_accuracy: 0.2189\n",
      "Epoch 3/20\n",
      "100/100 [==============================] - 189s 2s/step - loss: 1.7001 - accuracy: 0.3465 - val_loss: 1.8532 - val_accuracy: 0.3164\n",
      "Epoch 4/20\n",
      "100/100 [==============================] - 219s 2s/step - loss: 1.5234 - accuracy: 0.4152 - val_loss: 1.9797 - val_accuracy: 0.3289\n",
      "Epoch 5/20\n",
      "100/100 [==============================] - 208s 2s/step - loss: 1.4127 - accuracy: 0.4868 - val_loss: 4.2186 - val_accuracy: 0.2326\n",
      "Epoch 6/20\n",
      "100/100 [==============================] - 193s 2s/step - loss: 1.2778 - accuracy: 0.5276 - val_loss: 1.8794 - val_accuracy: 0.3933\n",
      "Epoch 7/20\n",
      "100/100 [==============================] - 434s 4s/step - loss: 1.1567 - accuracy: 0.5733 - val_loss: 2.3900 - val_accuracy: 0.2782\n",
      "Epoch 8/20\n",
      "100/100 [==============================] - 338s 3s/step - loss: 1.0668 - accuracy: 0.6128 - val_loss: 2.2125 - val_accuracy: 0.4107\n",
      "Epoch 9/20\n",
      "100/100 [==============================] - 218s 2s/step - loss: 0.9294 - accuracy: 0.6571 - val_loss: 2.3481 - val_accuracy: 0.3920\n",
      "Epoch 10/20\n",
      "100/100 [==============================] - 169s 2s/step - loss: 0.8486 - accuracy: 0.6987 - val_loss: 2.2005 - val_accuracy: 0.4124\n",
      "Epoch 11/20\n",
      "100/100 [==============================] - 218s 2s/step - loss: 0.7784 - accuracy: 0.7152 - val_loss: 2.5200 - val_accuracy: 0.4240\n",
      "Epoch 12/20\n",
      "100/100 [==============================] - 212s 2s/step - loss: 0.7041 - accuracy: 0.7484 - val_loss: 2.5588 - val_accuracy: 0.4111\n",
      "Epoch 13/20\n",
      "100/100 [==============================] - 243s 2s/step - loss: 0.6626 - accuracy: 0.7673 - val_loss: 2.5281 - val_accuracy: 0.4273\n",
      "Epoch 14/20\n",
      "100/100 [==============================] - 227s 2s/step - loss: 0.5929 - accuracy: 0.7934 - val_loss: 3.0530 - val_accuracy: 0.4365\n",
      "Epoch 15/20\n",
      "100/100 [==============================] - 257s 3s/step - loss: 0.5458 - accuracy: 0.8059 - val_loss: 2.9161 - val_accuracy: 0.4576\n",
      "Epoch 16/20\n",
      "100/100 [==============================] - 313s 3s/step - loss: 0.5019 - accuracy: 0.8300 - val_loss: 2.6704 - val_accuracy: 0.4473\n",
      "Epoch 17/20\n",
      "100/100 [==============================] - 233s 2s/step - loss: 0.4463 - accuracy: 0.8470 - val_loss: 2.8621 - val_accuracy: 0.4485\n",
      "Epoch 18/20\n",
      "100/100 [==============================] - 216s 2s/step - loss: 0.4369 - accuracy: 0.8545 - val_loss: 3.2485 - val_accuracy: 0.4730\n",
      "Epoch 19/20\n",
      "100/100 [==============================] - 212s 2s/step - loss: 0.4260 - accuracy: 0.8641 - val_loss: 3.1128 - val_accuracy: 0.4423\n",
      "Epoch 20/20\n",
      "100/100 [==============================] - 220s 2s/step - loss: 0.3712 - accuracy: 0.8722 - val_loss: 3.4256 - val_accuracy: 0.4286\n"
     ]
    }
   ],
   "source": [
    "history = model.fit_generator(train_gen, steps_per_epoch=100, epochs=20, validation_data=validation_gen, validation_steps=100)"
   ]
  },
  {
   "cell_type": "code",
   "execution_count": 294,
   "metadata": {},
   "outputs": [
    {
     "data": {
      "text/plain": [
       "dict_keys(['loss', 'accuracy', 'val_loss', 'val_accuracy'])"
      ]
     },
     "execution_count": 294,
     "metadata": {},
     "output_type": "execute_result"
    }
   ],
   "source": [
    "history.history.keys()"
   ]
  },
  {
   "cell_type": "code",
   "execution_count": 295,
   "metadata": {},
   "outputs": [],
   "source": [
    "loss = history.history['loss']\n",
    "acc = history.history['accuracy']\n",
    "\n",
    "val_loss = history.history['val_loss']\n",
    "val_acc = history.history['val_accuracy']"
   ]
  },
  {
   "cell_type": "code",
   "execution_count": 296,
   "metadata": {},
   "outputs": [
    {
     "data": {
      "text/plain": [
       "range(1, 21)"
      ]
     },
     "execution_count": 296,
     "metadata": {},
     "output_type": "execute_result"
    }
   ],
   "source": [
    "range(1, len(loss)+1)"
   ]
  },
  {
   "cell_type": "code",
   "execution_count": 297,
   "metadata": {},
   "outputs": [
    {
     "data": {
      "image/png": "[encoded data removed]",
      "text/plain": [
       "<Figure size 432x288 with 1 Axes>"
      ]
     },
     "metadata": {
      "needs_background": "light"
     },
     "output_type": "display_data"
    }
   ],
   "source": [
    "plt.plot(range(1,21), loss, label='training')\n",
    "plt.plot(range(1,21), val_loss, label='validation')\n",
    "plt.legend()\n",
    "plt.show()"
   ]
  },
  {
   "cell_type": "code",
   "execution_count": 298,
   "metadata": {},
   "outputs": [
    {
     "data": {
      "image/png": "[encoded data removed]",
      "text/plain": [
       "<Figure size 432x288 with 1 Axes>"
      ]
     },
     "metadata": {
      "needs_background": "light"
     },
     "output_type": "display_data"
    }
   ],
   "source": [
    "plt.plot(range(1,21), acc, label='training')\n",
    "plt.plot(range(1,21), val_acc, label='validation')\n",
    "plt.legend()\n",
    "plt.show()"
   ]
  },
  {
   "cell_type": "code",
   "execution_count": 299,
   "metadata": {},
   "outputs": [
    {
     "name": "stdout",
     "output_type": "stream",
     "text": [
      "Epoch 1/3\n",
      "100/100 [==============================] - 154s 2s/step - loss: 0.3292 - accuracy: 0.8914 - val_loss: 3.7662 - val_accuracy: 0.4433\n",
      "Epoch 2/3\n",
      "100/100 [==============================] - 275s 3s/step - loss: 0.3311 - accuracy: 0.8914 - val_loss: 3.7469 - val_accuracy: 0.4704\n",
      "Epoch 3/3\n",
      "100/100 [==============================] - 178s 2s/step - loss: 0.3212 - accuracy: 0.9003 - val_loss: 3.4655 - val_accuracy: 0.3997\n"
     ]
    },
    {
     "data": {
      "text/plain": [
       "<tensorflow.python.keras.callbacks.History at 0x153c6b090>"
      ]
     },
     "execution_count": 299,
     "metadata": {},
     "output_type": "execute_result"
    }
   ],
   "source": [
    "model.fit_generator(train_gen, steps_per_epoch=100, epochs=3, validation_data=validation_gen, validation_steps=50)"
   ]
  },
  {
   "cell_type": "code",
   "execution_count": 300,
   "metadata": {},
   "outputs": [
    {
     "data": {
      "text/plain": [
       "[3.114345133304596, 0.42727274]"
      ]
     },
     "execution_count": 300,
     "metadata": {},
     "output_type": "execute_result"
    }
   ],
   "source": [
    "model.evaluate_generator(test_gen)"
   ]
  },
  {
   "cell_type": "code",
   "execution_count": 307,
   "metadata": {},
   "outputs": [],
   "source": [
    "pred = model.predict_classes((np.array(test)/255))"
   ]
  },
  {
   "cell_type": "code",
   "execution_count": 308,
   "metadata": {},
   "outputs": [
    {
     "data": {
      "text/plain": [
       "array([6, 0, 6, 5, 6, 7, 1, 1, 1, 1, 0, 2, 1, 0, 3, 4, 0, 0, 1, 7, 0, 0,\n",
       "       1, 4, 2, 3, 3, 1, 0, 3, 0, 6, 6, 1, 1, 0, 1, 1, 6, 0, 6, 0, 0, 0,\n",
       "       0, 3, 0, 0, 0, 0, 2, 2, 2, 2, 5, 7, 2, 2, 2, 2, 2, 2, 2, 2, 2, 4,\n",
       "       2, 2, 0, 2, 1, 1, 4, 5, 5, 2, 5, 5, 5, 6, 7, 0, 7, 5, 1, 4, 5, 7,\n",
       "       7, 1, 1, 7, 0, 7, 5, 0, 6, 0, 4, 7, 7, 2, 7, 5, 6, 0, 0, 4, 7, 3,\n",
       "       0, 3, 3, 3, 1, 0, 0, 0, 0, 4, 5, 2, 0, 3, 3, 3, 0, 5, 6, 6, 5, 6,\n",
       "       6, 0, 5, 6, 7, 0, 0, 1, 5, 0, 6, 6, 6, 6, 1, 3, 0, 6, 3, 1, 0, 0,\n",
       "       1, 0])"
      ]
     },
     "execution_count": 308,
     "metadata": {},
     "output_type": "execute_result"
    }
   ],
   "source": [
    "pred"
   ]
  },
  {
   "cell_type": "code",
   "execution_count": 314,
   "metadata": {},
   "outputs": [],
   "source": [
    "test_res = test_img.copy()"
   ]
  },
  {
   "cell_type": "code",
   "execution_count": 323,
   "metadata": {},
   "outputs": [],
   "source": [
    "test_res['img'] = pd.to_numeric(test_res.img)"
   ]
  },
  {
   "cell_type": "code",
   "execution_count": 330,
   "metadata": {},
   "outputs": [],
   "source": [
    "test_res.sort_values('img', inplace=True)"
   ]
  },
  {
   "cell_type": "code",
   "execution_count": 332,
   "metadata": {},
   "outputs": [],
   "source": [
    "test_res['label'] = pred"
   ]
  },
  {
   "cell_type": "code",
   "execution_count": 335,
   "metadata": {},
   "outputs": [],
   "source": [
    "test_res['target'] = test_res.label.apply(lambda x: dance_dict[x])"
   ]
  },
  {
   "cell_type": "code",
   "execution_count": 345,
   "metadata": {},
   "outputs": [],
   "source": [
    "test_res.sort_index(inplace=True)"
   ]
  },
  {
   "cell_type": "code",
   "execution_count": 348,
   "metadata": {},
   "outputs": [],
   "source": [
    "test_res.drop(['img', 'label'], axis=1,inplace=True)"
   ]
  },
  {
   "cell_type": "code",
   "execution_count": 351,
   "metadata": {},
   "outputs": [],
   "source": [
    "test_res.set_index('Image').to_csv('/Users/skylark/Desktop/dataset/result32.csv')"
   ]
  },
  {
   "cell_type": "code",
   "execution_count": null,
   "metadata": {},
   "outputs": [],
   "source": []
  }
 ],
 "metadata": {
  "kernelspec": {
   "display_name": "Python 3",
   "language": "python",
   "name": "python3"
  },
  "language_info": {
   "codemirror_mode": {
    "name": "ipython",
    "version": 3
   },
   "file_extension": ".py",
   "mimetype": "text/x-python",
   "name": "python",
   "nbconvert_exporter": "python",
   "pygments_lexer": "ipython3",
   "version": "3.7.4"
  }
 },
 "nbformat": 4,
 "nbformat_minor": 2
}
