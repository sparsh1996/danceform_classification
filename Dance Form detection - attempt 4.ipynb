{
 "cells": [
  {
   "cell_type": "code",
   "execution_count": 1,
   "metadata": {},
   "outputs": [],
   "source": [
    "import pandas as pd\n",
    "import numpy as np\n",
    "import matplotlib.pyplot as plt\n",
    "import seaborn as sn\n",
    "import cv2\n",
    "import os\n",
    "import warnings\n",
    "warnings.filterwarnings('ignore')\n",
    "import statsmodels.api as sm\n",
    "%matplotlib inline"
   ]
  },
  {
   "cell_type": "code",
   "execution_count": 2,
   "metadata": {},
   "outputs": [],
   "source": [
    "from tensorflow import keras"
   ]
  },
  {
   "cell_type": "code",
   "execution_count": 3,
   "metadata": {},
   "outputs": [],
   "source": [
    "from keras.applications import VGG16"
   ]
  },
  {
   "cell_type": "code",
   "execution_count": 4,
   "metadata": {},
   "outputs": [],
   "source": [
    "train = pd.read_csv('/Users/skylark/Desktop/dataset/train.csv')\n",
    "test = pd.read_csv('/Users/skylark/Desktop/dataset/test.csv')"
   ]
  },
  {
   "cell_type": "code",
   "execution_count": 11,
   "metadata": {},
   "outputs": [],
   "source": [
    "train['img'] = pd.to_numeric(train.Image.apply(lambda x: x.split('.')[0]))"
   ]
  },
  {
   "cell_type": "code",
   "execution_count": 22,
   "metadata": {},
   "outputs": [],
   "source": [
    "test_new = test.copy()"
   ]
  },
  {
   "cell_type": "code",
   "execution_count": 23,
   "metadata": {},
   "outputs": [],
   "source": [
    "test_new['img'] = pd.to_numeric(test.Image.apply(lambda x: x.split('.')[0]))"
   ]
  },
  {
   "cell_type": "code",
   "execution_count": 30,
   "metadata": {},
   "outputs": [],
   "source": [
    "from keras.preprocessing import image"
   ]
  },
  {
   "cell_type": "code",
   "execution_count": 32,
   "metadata": {},
   "outputs": [],
   "source": [
    "path_dir_train = '/Users/skylark/Desktop/dataset/train'\n",
    "path_dir_test = '/Users/skylark/Desktop/dataset/test'"
   ]
  },
  {
   "cell_type": "code",
   "execution_count": 34,
   "metadata": {},
   "outputs": [
    {
     "data": {
      "image/png": "[encoded data removed]",
      "text/plain": [
       "<PIL.Image.Image image mode=RGB size=150x150 at 0x147F19ED0>"
      ]
     },
     "execution_count": 34,
     "metadata": {},
     "output_type": "execute_result"
    }
   ],
   "source": [
    "image.load_img(os.path.join(path_dir_train,train.Image[0]), target_size=(150, 150))"
   ]
  },
  {
   "cell_type": "code",
   "execution_count": 53,
   "metadata": {},
   "outputs": [],
   "source": [
    "train_img = []\n",
    "for i in train.Image:\n",
    "    train_img.append(image.img_to_array(image.load_img(os.path.join(path_dir_train,i), target_size=(150, 150))))\n",
    "train_img = np.array(train_img)    "
   ]
  },
  {
   "cell_type": "code",
   "execution_count": 56,
   "metadata": {},
   "outputs": [],
   "source": [
    "test_img = []\n",
    "for i in test.Image:\n",
    "    test_img.append(image.img_to_array(image.load_img(os.path.join(path_dir_test,i), target_size=(150, 150))))\n",
    "test_img = np.array(test_img)    "
   ]
  },
  {
   "cell_type": "code",
   "execution_count": 60,
   "metadata": {},
   "outputs": [],
   "source": [
    "dance_dict = {}\n",
    "for i,j in enumerate(train.target.unique()):\n",
    "    dance_dict[j] = i"
   ]
  },
  {
   "cell_type": "code",
   "execution_count": 61,
   "metadata": {},
   "outputs": [
    {
     "data": {
      "text/plain": [
       "{'kathak': 0,\n",
       " 'manipuri': 1,\n",
       " 'bharatanatyam': 2,\n",
       " 'kathakali': 3,\n",
       " 'mohiniyattam': 4,\n",
       " 'sattriya': 5,\n",
       " 'kuchipudi': 6,\n",
       " 'odissi': 7}"
      ]
     },
     "execution_count": 61,
     "metadata": {},
     "output_type": "execute_result"
    }
   ],
   "source": [
    "dance_dict"
   ]
  },
  {
   "cell_type": "code",
   "execution_count": 62,
   "metadata": {},
   "outputs": [],
   "source": [
    "train['label'] = train.target.apply(lambda x: dance_dict[x])"
   ]
  },
  {
   "cell_type": "code",
   "execution_count": 64,
   "metadata": {},
   "outputs": [],
   "source": [
    "from sklearn.model_selection import train_test_split"
   ]
  },
  {
   "cell_type": "code",
   "execution_count": 74,
   "metadata": {},
   "outputs": [
    {
     "data": {
      "text/plain": [
       "109"
      ]
     },
     "execution_count": 74,
     "metadata": {},
     "output_type": "execute_result"
    }
   ],
   "source": [
    "int(len(train_img)*0.3)"
   ]
  },
  {
   "cell_type": "code",
   "execution_count": 76,
   "metadata": {},
   "outputs": [
    {
     "data": {
      "text/plain": [
       "218"
      ]
     },
     "execution_count": 76,
     "metadata": {},
     "output_type": "execute_result"
    }
   ],
   "source": [
    "109*2"
   ]
  },
  {
   "cell_type": "code",
   "execution_count": 188,
   "metadata": {},
   "outputs": [],
   "source": [
    "train_x, test_x, train_y, test_y = train_test_split(train_img/255, train.label, test_size=0.3, random_state=49)"
   ]
  },
  {
   "cell_type": "code",
   "execution_count": 175,
   "metadata": {},
   "outputs": [],
   "source": [
    "datagen = image.ImageDataGenerator(rotation_range=40, width_shift_range=0.2, height_shift_range=0.2, shear_range=0.2, zoom_range=0.2, horizontal_flip=True, fill_mode='nearest')"
   ]
  },
  {
   "cell_type": "code",
   "execution_count": 176,
   "metadata": {},
   "outputs": [],
   "source": [
    "train_gen = datagen.flow(train_x[109:], train_y[109:])\n",
    "test_gen = datagen.flow(test_x, test_y)\n",
    "validation_gen = datagen.flow(train_x[:109], train_y[:109])"
   ]
  },
  {
   "cell_type": "code",
   "execution_count": 83,
   "metadata": {},
   "outputs": [
    {
     "name": "stdout",
     "output_type": "stream",
     "text": [
      "Downloading data from https://github.com/fchollet/deep-learning-models/releases/download/v0.1/vgg16_weights_tf_dim_ordering_tf_kernels_notop.h5\n",
      "58892288/58889256 [==============================] - 29s 0us/step\n"
     ]
    }
   ],
   "source": [
    "conv_base = VGG16(weights='imagenet', include_top=False, input_shape=(150,150,3))"
   ]
  },
  {
   "cell_type": "code",
   "execution_count": 84,
   "metadata": {},
   "outputs": [
    {
     "name": "stdout",
     "output_type": "stream",
     "text": [
      "Model: \"vgg16\"\n",
      "_________________________________________________________________\n",
      "Layer (type)                 Output Shape              Param #   \n",
      "=================================================================\n",
      "input_1 (InputLayer)         (None, 150, 150, 3)       0         \n",
      "_________________________________________________________________\n",
      "block1_conv1 (Conv2D)        (None, 150, 150, 64)      1792      \n",
      "_________________________________________________________________\n",
      "block1_conv2 (Conv2D)        (None, 150, 150, 64)      36928     \n",
      "_________________________________________________________________\n",
      "block1_pool (MaxPooling2D)   (None, 75, 75, 64)        0         \n",
      "_________________________________________________________________\n",
      "block2_conv1 (Conv2D)        (None, 75, 75, 128)       73856     \n",
      "_________________________________________________________________\n",
      "block2_conv2 (Conv2D)        (None, 75, 75, 128)       147584    \n",
      "_________________________________________________________________\n",
      "block2_pool (MaxPooling2D)   (None, 37, 37, 128)       0         \n",
      "_________________________________________________________________\n",
      "block3_conv1 (Conv2D)        (None, 37, 37, 256)       295168    \n",
      "_________________________________________________________________\n",
      "block3_conv2 (Conv2D)        (None, 37, 37, 256)       590080    \n",
      "_________________________________________________________________\n",
      "block3_conv3 (Conv2D)        (None, 37, 37, 256)       590080    \n",
      "_________________________________________________________________\n",
      "block3_pool (MaxPooling2D)   (None, 18, 18, 256)       0         \n",
      "_________________________________________________________________\n",
      "block4_conv1 (Conv2D)        (None, 18, 18, 512)       1180160   \n",
      "_________________________________________________________________\n",
      "block4_conv2 (Conv2D)        (None, 18, 18, 512)       2359808   \n",
      "_________________________________________________________________\n",
      "block4_conv3 (Conv2D)        (None, 18, 18, 512)       2359808   \n",
      "_________________________________________________________________\n",
      "block4_pool (MaxPooling2D)   (None, 9, 9, 512)         0         \n",
      "_________________________________________________________________\n",
      "block5_conv1 (Conv2D)        (None, 9, 9, 512)         2359808   \n",
      "_________________________________________________________________\n",
      "block5_conv2 (Conv2D)        (None, 9, 9, 512)         2359808   \n",
      "_________________________________________________________________\n",
      "block5_conv3 (Conv2D)        (None, 9, 9, 512)         2359808   \n",
      "_________________________________________________________________\n",
      "block5_pool (MaxPooling2D)   (None, 4, 4, 512)         0         \n",
      "=================================================================\n",
      "Total params: 14,714,688\n",
      "Trainable params: 14,714,688\n",
      "Non-trainable params: 0\n",
      "_________________________________________________________________\n"
     ]
    }
   ],
   "source": [
    "conv_base.summary()"
   ]
  },
  {
   "cell_type": "markdown",
   "metadata": {},
   "source": [
    "### Fast feature extraction without data augmentation"
   ]
  },
  {
   "cell_type": "code",
   "execution_count": 106,
   "metadata": {},
   "outputs": [],
   "source": [
    "train_features = conv_base.predict(train_x[109:])\n",
    "train_labels = train_y[109:]"
   ]
  },
  {
   "cell_type": "code",
   "execution_count": 107,
   "metadata": {},
   "outputs": [],
   "source": [
    "validation_features = conv_base.predict(train_x[:109])\n",
    "validation_labels = train_y[:109]"
   ]
  },
  {
   "cell_type": "code",
   "execution_count": 108,
   "metadata": {},
   "outputs": [],
   "source": [
    "test_features = conv_base.predict(test_x)\n",
    "test_labels = test_y"
   ]
  },
  {
   "cell_type": "code",
   "execution_count": 114,
   "metadata": {},
   "outputs": [],
   "source": [
    "train_features = train_features.reshape(145, 4*4*512)\n",
    "validation_features = validation_features.reshape(109, 4*4*512)\n",
    "test_features = test_features.reshape(110, 4*4*512)"
   ]
  },
  {
   "cell_type": "code",
   "execution_count": 117,
   "metadata": {},
   "outputs": [],
   "source": [
    "from keras import models, layers, optimizers, regularizers"
   ]
  },
  {
   "cell_type": "code",
   "execution_count": 147,
   "metadata": {},
   "outputs": [],
   "source": [
    "model = models.Sequential()"
   ]
  },
  {
   "cell_type": "code",
   "execution_count": 148,
   "metadata": {},
   "outputs": [],
   "source": [
    "model.add(layers.Dense(256, activation='relu', input_dim = 4*4*512))\n",
    "model.add(layers.Dropout(0.5))\n",
    "model.add(layers.Dense(512, activation='relu'))\n",
    "model.add(layers.Dense(8, activation='softmax'))"
   ]
  },
  {
   "cell_type": "code",
   "execution_count": 149,
   "metadata": {},
   "outputs": [],
   "source": [
    "model.compile(optimizer=optimizers.RMSprop(lr=2e-5), loss='sparse_categorical_crossentropy', metrics=['acc'])"
   ]
  },
  {
   "cell_type": "code",
   "execution_count": 150,
   "metadata": {},
   "outputs": [
    {
     "name": "stdout",
     "output_type": "stream",
     "text": [
      "Train on 145 samples, validate on 109 samples\n",
      "Epoch 1/30\n",
      "145/145 [==============================] - 1s 3ms/step - loss: 2.2508 - acc: 0.0966 - val_loss: 2.0683 - val_acc: 0.0826\n",
      "Epoch 2/30\n",
      "145/145 [==============================] - 0s 1ms/step - loss: 2.1002 - acc: 0.1172 - val_loss: 2.0477 - val_acc: 0.1284\n",
      "Epoch 3/30\n",
      "145/145 [==============================] - 0s 2ms/step - loss: 2.0789 - acc: 0.1862 - val_loss: 2.0337 - val_acc: 0.1651\n",
      "Epoch 4/30\n",
      "145/145 [==============================] - 0s 2ms/step - loss: 2.0441 - acc: 0.1448 - val_loss: 2.0254 - val_acc: 0.1835\n",
      "Epoch 5/30\n",
      "145/145 [==============================] - 0s 2ms/step - loss: 2.0021 - acc: 0.2207 - val_loss: 2.0124 - val_acc: 0.2385\n",
      "Epoch 6/30\n",
      "145/145 [==============================] - 0s 2ms/step - loss: 2.0112 - acc: 0.2207 - val_loss: 1.9964 - val_acc: 0.2477\n",
      "Epoch 7/30\n",
      "145/145 [==============================] - 0s 2ms/step - loss: 1.9449 - acc: 0.2552 - val_loss: 1.9815 - val_acc: 0.2661\n",
      "Epoch 8/30\n",
      "145/145 [==============================] - 0s 2ms/step - loss: 1.8962 - acc: 0.3034 - val_loss: 1.9691 - val_acc: 0.2477\n",
      "Epoch 9/30\n",
      "145/145 [==============================] - 0s 2ms/step - loss: 1.9351 - acc: 0.2828 - val_loss: 1.9580 - val_acc: 0.2844\n",
      "Epoch 10/30\n",
      "145/145 [==============================] - 0s 2ms/step - loss: 1.8555 - acc: 0.3586 - val_loss: 1.9507 - val_acc: 0.2752\n",
      "Epoch 11/30\n",
      "145/145 [==============================] - 0s 2ms/step - loss: 1.8701 - acc: 0.3793 - val_loss: 1.9409 - val_acc: 0.3119\n",
      "Epoch 12/30\n",
      "145/145 [==============================] - 0s 2ms/step - loss: 1.8241 - acc: 0.3793 - val_loss: 1.9281 - val_acc: 0.3028\n",
      "Epoch 13/30\n",
      "145/145 [==============================] - 0s 2ms/step - loss: 1.8455 - acc: 0.4138 - val_loss: 1.9153 - val_acc: 0.3578\n",
      "Epoch 14/30\n",
      "145/145 [==============================] - 0s 2ms/step - loss: 1.7562 - acc: 0.4759 - val_loss: 1.8998 - val_acc: 0.3578\n",
      "Epoch 15/30\n",
      "145/145 [==============================] - 0s 2ms/step - loss: 1.7715 - acc: 0.3862 - val_loss: 1.8923 - val_acc: 0.3853\n",
      "Epoch 16/30\n",
      "145/145 [==============================] - 0s 2ms/step - loss: 1.7249 - acc: 0.4483 - val_loss: 1.8848 - val_acc: 0.3853\n",
      "Epoch 17/30\n",
      "145/145 [==============================] - 0s 2ms/step - loss: 1.6772 - acc: 0.5034 - val_loss: 1.8693 - val_acc: 0.4037\n",
      "Epoch 18/30\n",
      "145/145 [==============================] - 0s 2ms/step - loss: 1.6815 - acc: 0.4897 - val_loss: 1.8544 - val_acc: 0.4312\n",
      "Epoch 19/30\n",
      "145/145 [==============================] - 0s 2ms/step - loss: 1.6646 - acc: 0.4966 - val_loss: 1.8400 - val_acc: 0.3945\n",
      "Epoch 20/30\n",
      "145/145 [==============================] - 0s 2ms/step - loss: 1.6477 - acc: 0.5241 - val_loss: 1.8294 - val_acc: 0.4220\n",
      "Epoch 21/30\n",
      "145/145 [==============================] - 0s 3ms/step - loss: 1.5847 - acc: 0.5379 - val_loss: 1.8178 - val_acc: 0.4404\n",
      "Epoch 22/30\n",
      "145/145 [==============================] - 0s 2ms/step - loss: 1.5535 - acc: 0.6000 - val_loss: 1.8095 - val_acc: 0.4404\n",
      "Epoch 23/30\n",
      "145/145 [==============================] - 0s 2ms/step - loss: 1.5518 - acc: 0.5931 - val_loss: 1.8017 - val_acc: 0.4679\n",
      "Epoch 24/30\n",
      "145/145 [==============================] - 0s 2ms/step - loss: 1.5538 - acc: 0.5586 - val_loss: 1.7901 - val_acc: 0.4679\n",
      "Epoch 25/30\n",
      "145/145 [==============================] - 0s 3ms/step - loss: 1.5197 - acc: 0.5862 - val_loss: 1.7870 - val_acc: 0.4771\n",
      "Epoch 26/30\n",
      "145/145 [==============================] - 0s 2ms/step - loss: 1.4972 - acc: 0.5931 - val_loss: 1.7723 - val_acc: 0.4587\n",
      "Epoch 27/30\n",
      "145/145 [==============================] - 0s 2ms/step - loss: 1.4922 - acc: 0.6345 - val_loss: 1.7542 - val_acc: 0.4312\n",
      "Epoch 28/30\n",
      "145/145 [==============================] - 0s 2ms/step - loss: 1.4479 - acc: 0.6552 - val_loss: 1.7499 - val_acc: 0.4587\n",
      "Epoch 29/30\n",
      "145/145 [==============================] - 0s 2ms/step - loss: 1.4243 - acc: 0.5862 - val_loss: 1.7407 - val_acc: 0.4404\n",
      "Epoch 30/30\n",
      "145/145 [==============================] - 0s 2ms/step - loss: 1.3824 - acc: 0.7034 - val_loss: 1.7391 - val_acc: 0.4495\n"
     ]
    }
   ],
   "source": [
    "history = model.fit(train_features, train_labels, epochs=30, batch_size=20, validation_data=(validation_features, validation_labels))"
   ]
  },
  {
   "cell_type": "code",
   "execution_count": 151,
   "metadata": {},
   "outputs": [],
   "source": [
    "loss = history.history['loss']\n",
    "val_loss = history.history['val_loss']\n",
    "\n",
    "acc = history.history['acc']\n",
    "val_acc = history.history['val_acc']"
   ]
  },
  {
   "cell_type": "code",
   "execution_count": 152,
   "metadata": {},
   "outputs": [
    {
     "data": {
      "image/png": "[encoded data removed]",
      "text/plain": [
       "<Figure size 432x288 with 1 Axes>"
      ]
     },
     "metadata": {
      "needs_background": "light"
     },
     "output_type": "display_data"
    }
   ],
   "source": [
    "plt.plot(range(1, len(acc)+1), loss, label='Training')\n",
    "plt.plot(range(1, len(acc)+1), val_loss, label='Validation')\n",
    "plt.legend()\n",
    "plt.show()"
   ]
  },
  {
   "cell_type": "code",
   "execution_count": 153,
   "metadata": {},
   "outputs": [
    {
     "data": {
      "image/png": "[encoded data removed]",
      "text/plain": [
       "<Figure size 432x288 with 1 Axes>"
      ]
     },
     "metadata": {
      "needs_background": "light"
     },
     "output_type": "display_data"
    }
   ],
   "source": [
    "plt.plot(range(1, len(acc)+1), acc, label='Training')\n",
    "plt.plot(range(1, len(acc)+1), val_acc, label='Validation')\n",
    "plt.legend()\n",
    "plt.show()"
   ]
  },
  {
   "cell_type": "code",
   "execution_count": 154,
   "metadata": {},
   "outputs": [
    {
     "name": "stdout",
     "output_type": "stream",
     "text": [
      "110/110 [==============================] - 0s 418us/step\n"
     ]
    },
    {
     "data": {
      "text/plain": [
       "[1.7612015745856546, 0.4727272689342499]"
      ]
     },
     "execution_count": 154,
     "metadata": {},
     "output_type": "execute_result"
    }
   ],
   "source": [
    "model.evaluate(test_features, test_labels)"
   ]
  },
  {
   "cell_type": "markdown",
   "metadata": {},
   "source": [
    "### Feature extraction with image augmentation"
   ]
  },
  {
   "cell_type": "code",
   "execution_count": 187,
   "metadata": {},
   "outputs": [],
   "source": [
    "model2 = models.Sequential()"
   ]
  },
  {
   "cell_type": "code",
   "execution_count": 189,
   "metadata": {},
   "outputs": [],
   "source": [
    "model2.add(conv_base)\n",
    "model2.add(layers.Flatten())\n",
    "model2.add(layers.Dense(256, activation='relu'))\n",
    "model2.add(layers.Dense(8, activation='softmax'))"
   ]
  },
  {
   "cell_type": "code",
   "execution_count": 190,
   "metadata": {},
   "outputs": [
    {
     "name": "stdout",
     "output_type": "stream",
     "text": [
      "Model: \"sequential_10\"\n",
      "_________________________________________________________________\n",
      "Layer (type)                 Output Shape              Param #   \n",
      "=================================================================\n",
      "vgg16 (Model)                (None, 4, 4, 512)         14714688  \n",
      "_________________________________________________________________\n",
      "flatten_5 (Flatten)          (None, 8192)              0         \n",
      "_________________________________________________________________\n",
      "dense_28 (Dense)             (None, 256)               2097408   \n",
      "_________________________________________________________________\n",
      "dense_29 (Dense)             (None, 8)                 2056      \n",
      "=================================================================\n",
      "Total params: 16,814,152\n",
      "Trainable params: 9,178,888\n",
      "Non-trainable params: 7,635,264\n",
      "_________________________________________________________________\n"
     ]
    }
   ],
   "source": [
    "model2.summary()"
   ]
  },
  {
   "cell_type": "code",
   "execution_count": 180,
   "metadata": {},
   "outputs": [],
   "source": [
    "conv_base.trainable = True\n",
    "\n",
    "set_trainable = False\n",
    "for layer in conv_base.layers:\n",
    "    if layer.name == 'block5_conv1':\n",
    "        set_trainable=True\n",
    "    if set_trainable:\n",
    "        layer.trainable = True\n",
    "    else:\n",
    "        layer.trainable = False"
   ]
  },
  {
   "cell_type": "code",
   "execution_count": 191,
   "metadata": {},
   "outputs": [],
   "source": [
    "model2.compile(optimizer=optimizers.RMSprop(lr=2e-5), loss='sparse_categorical_crossentropy', metrics=['acc'])"
   ]
  },
  {
   "cell_type": "code",
   "execution_count": 192,
   "metadata": {},
   "outputs": [
    {
     "name": "stdout",
     "output_type": "stream",
     "text": [
      "Epoch 1/30\n",
      "100/100 [==============================] - 761s 8s/step - loss: 0.8361 - acc: 0.7262 - val_loss: 1.3777 - val_acc: 0.4672\n",
      "Epoch 2/30\n",
      "100/100 [==============================] - 729s 7s/step - loss: 0.1745 - acc: 0.9521 - val_loss: 2.1030 - val_acc: 0.4789\n",
      "Epoch 3/30\n",
      "100/100 [==============================] - 788s 8s/step - loss: 0.0808 - acc: 0.9731 - val_loss: 2.0794 - val_acc: 0.4694\n",
      "Epoch 4/30\n",
      "100/100 [==============================] - 616s 6s/step - loss: 0.0401 - acc: 0.9893 - val_loss: 3.9298 - val_acc: 0.5203\n",
      "Epoch 5/30\n",
      "100/100 [==============================] - 617s 6s/step - loss: 0.0301 - acc: 0.9928 - val_loss: 2.0981 - val_acc: 0.5386\n",
      "Epoch 6/30\n",
      "100/100 [==============================] - 620s 6s/step - loss: 0.0233 - acc: 0.9931 - val_loss: 2.5010 - val_acc: 0.5255\n",
      "Epoch 7/30\n",
      "100/100 [==============================] - 670s 7s/step - loss: 0.0260 - acc: 0.9931 - val_loss: 2.4875 - val_acc: 0.5488\n",
      "Epoch 8/30\n",
      "100/100 [==============================] - 707s 7s/step - loss: 0.0187 - acc: 0.9962 - val_loss: 4.9726 - val_acc: 0.5536\n",
      "Epoch 9/30\n",
      "100/100 [==============================] - 837s 8s/step - loss: 0.0135 - acc: 0.9966 - val_loss: 2.5090 - val_acc: 0.5671\n",
      "Epoch 10/30\n",
      "100/100 [==============================] - 717s 7s/step - loss: 0.0134 - acc: 0.9962 - val_loss: 0.6506 - val_acc: 0.5543\n",
      "Epoch 11/30\n",
      "100/100 [==============================] - 886s 9s/step - loss: 0.0056 - acc: 0.9986 - val_loss: 2.4104 - val_acc: 0.5569\n",
      "Epoch 12/30\n",
      "100/100 [==============================] - 884s 9s/step - loss: 0.0097 - acc: 0.9969 - val_loss: 3.5718 - val_acc: 0.5285\n",
      "Epoch 13/30\n",
      "100/100 [==============================] - 860s 9s/step - loss: 0.0053 - acc: 0.9983 - val_loss: 4.4541 - val_acc: 0.5656\n",
      "Epoch 14/30\n",
      "100/100 [==============================] - 927s 9s/step - loss: 0.0047 - acc: 0.9983 - val_loss: 4.6677 - val_acc: 0.4893\n",
      "Epoch 15/30\n",
      "100/100 [==============================] - 864s 9s/step - loss: 0.0051 - acc: 0.9990 - val_loss: 4.2373 - val_acc: 0.5569\n",
      "Epoch 16/30\n",
      "100/100 [==============================] - 909s 9s/step - loss: 0.0066 - acc: 0.9969 - val_loss: 2.5077 - val_acc: 0.5514\n",
      "Epoch 17/30\n",
      "100/100 [==============================] - 794s 8s/step - loss: 0.0065 - acc: 0.9983 - val_loss: 3.9995 - val_acc: 0.5525\n",
      "Epoch 18/30\n",
      "100/100 [==============================] - 807s 8s/step - loss: 0.0045 - acc: 0.9983 - val_loss: 3.8152 - val_acc: 0.5329\n",
      "Epoch 19/30\n",
      "100/100 [==============================] - 775s 8s/step - loss: 0.0017 - acc: 0.9993 - val_loss: 6.7476 - val_acc: 0.5452\n",
      "Epoch 20/30\n",
      "100/100 [==============================] - 763s 8s/step - loss: 0.0111 - acc: 0.9972 - val_loss: 2.2383 - val_acc: 0.5344\n",
      "Epoch 21/30\n",
      "100/100 [==============================] - 746s 7s/step - loss: 0.0015 - acc: 0.9997 - val_loss: 3.0709 - val_acc: 0.5452\n",
      "Epoch 22/30\n",
      "100/100 [==============================] - 748s 7s/step - loss: 0.0028 - acc: 0.9986 - val_loss: 0.6643 - val_acc: 0.5543\n",
      "Epoch 23/30\n",
      "100/100 [==============================] - 751s 8s/step - loss: 0.0023 - acc: 0.9993 - val_loss: 5.4893 - val_acc: 0.5350\n",
      "Epoch 24/30\n",
      "100/100 [==============================] - 734s 7s/step - loss: 0.0077 - acc: 0.9979 - val_loss: 7.5668 - val_acc: 0.5632\n",
      "Epoch 25/30\n",
      "100/100 [==============================] - 744s 7s/step - loss: 0.0030 - acc: 0.9993 - val_loss: 4.7710 - val_acc: 0.5335\n",
      "Epoch 26/30\n",
      "100/100 [==============================] - 753s 8s/step - loss: 0.0012 - acc: 0.9997 - val_loss: 2.9457 - val_acc: 0.5521\n",
      "Epoch 27/30\n",
      "100/100 [==============================] - 795s 8s/step - loss: 0.0047 - acc: 0.9983 - val_loss: 3.3298 - val_acc: 0.5612\n",
      "Epoch 28/30\n",
      "100/100 [==============================] - 908s 9s/step - loss: 0.0014 - acc: 0.9993 - val_loss: 3.4611 - val_acc: 0.5573\n",
      "Epoch 29/30\n",
      "100/100 [==============================] - 770s 8s/step - loss: 0.0041 - acc: 0.9983 - val_loss: 3.9134 - val_acc: 0.5510\n",
      "Epoch 30/30\n",
      "100/100 [==============================] - 745s 7s/step - loss: 0.0022 - acc: 0.9990 - val_loss: 2.6325 - val_acc: 0.5418\n"
     ]
    }
   ],
   "source": [
    "history = model2.fit_generator(train_gen, epochs=30, steps_per_epoch=100, validation_data=validation_gen, validation_steps=50)"
   ]
  },
  {
   "cell_type": "code",
   "execution_count": 193,
   "metadata": {},
   "outputs": [
    {
     "data": {
      "text/plain": [
       "dict_keys(['val_loss', 'val_acc', 'loss', 'acc'])"
      ]
     },
     "execution_count": 193,
     "metadata": {},
     "output_type": "execute_result"
    }
   ],
   "source": [
    "history.history.keys()"
   ]
  },
  {
   "cell_type": "code",
   "execution_count": 195,
   "metadata": {},
   "outputs": [],
   "source": [
    "loss = history.history['loss']\n",
    "acc = history.history['acc']\n",
    "\n",
    "val_loss = history.history['val_loss']\n",
    "val_acc = history.history['val_acc']"
   ]
  },
  {
   "cell_type": "code",
   "execution_count": 196,
   "metadata": {},
   "outputs": [
    {
     "data": {
      "text/plain": [
       "range(1, 31)"
      ]
     },
     "execution_count": 196,
     "metadata": {},
     "output_type": "execute_result"
    }
   ],
   "source": [
    "range(1, len(loss)+1)"
   ]
  },
  {
   "cell_type": "code",
   "execution_count": 197,
   "metadata": {},
   "outputs": [
    {
     "data": {
      "image/png": "[encoded data removed]",
      "text/plain": [
       "<Figure size 432x288 with 1 Axes>"
      ]
     },
     "metadata": {
      "needs_background": "light"
     },
     "output_type": "display_data"
    }
   ],
   "source": [
    "plt.plot(range(1,31), loss, label='training')\n",
    "plt.plot(range(1,31), val_loss, label='validation')\n",
    "plt.legend()\n",
    "plt.show()"
   ]
  },
  {
   "cell_type": "code",
   "execution_count": 198,
   "metadata": {},
   "outputs": [
    {
     "data": {
      "image/png": "[encoded data removed]",
      "text/plain": [
       "<Figure size 432x288 with 1 Axes>"
      ]
     },
     "metadata": {
      "needs_background": "light"
     },
     "output_type": "display_data"
    }
   ],
   "source": [
    "plt.plot(range(1,31), acc, label='training')\n",
    "plt.plot(range(1,31), val_acc, label='validation')\n",
    "plt.legend()\n",
    "plt.show()"
   ]
  },
  {
   "cell_type": "code",
   "execution_count": 199,
   "metadata": {},
   "outputs": [
    {
     "data": {
      "text/plain": [
       "[2.7157437801361084, 0.5727272629737854]"
      ]
     },
     "execution_count": 199,
     "metadata": {},
     "output_type": "execute_result"
    }
   ],
   "source": [
    "model.evaluate_generator(test_x)"
   ]
  },
  {
   "cell_type": "code",
   "execution_count": 205,
   "metadata": {},
   "outputs": [],
   "source": [
    "test_new['label'] = pred"
   ]
  },
  {
   "cell_type": "code",
   "execution_count": 229,
   "metadata": {},
   "outputs": [],
   "source": [
    "test_new['target'] = test_new.label.apply(lambda x: dance_dict_rev[x])"
   ]
  },
  {
   "cell_type": "code",
   "execution_count": 233,
   "metadata": {},
   "outputs": [],
   "source": [
    "test_new.sort_index(inplace=True)"
   ]
  },
  {
   "cell_type": "code",
   "execution_count": 241,
   "metadata": {},
   "outputs": [],
   "source": [
    "test_new.set_index('Image').drop('label', axis=1).to_csv('/Users/skylark/Desktop/dataset/result.csv')"
   ]
  },
  {
   "cell_type": "code",
   "execution_count": null,
   "metadata": {},
   "outputs": [],
   "source": []
  }
 ],
 "metadata": {
  "kernelspec": {
   "display_name": "Python 3",
   "language": "python",
   "name": "python3"
  },
  "language_info": {
   "codemirror_mode": {
    "name": "ipython",
    "version": 3
   },
   "file_extension": ".py",
   "mimetype": "text/x-python",
   "name": "python",
   "nbconvert_exporter": "python",
   "pygments_lexer": "ipython3",
   "version": "3.7.4"
  }
 },
 "nbformat": 4,
 "nbformat_minor": 2
}
